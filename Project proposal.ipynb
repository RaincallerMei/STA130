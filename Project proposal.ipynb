{
 "cells": [
  {
   "cell_type": "markdown",
   "id": "12eee693",
   "metadata": {},
   "source": [
    "### Research Question 1: Are there linear associations between social support help easing burnouts?"
   ]
  },
  {
   "cell_type": "markdown",
   "id": "c9ab8be3",
   "metadata": {},
   "source": [
    "Variables: \n",
    "\n",
    "There will be 2 variables from the data used in the project: WELLNESS_malach_pines_burnout_measure_score and PSYCH_zimet_multidimensional_social_support_scale_score. \n",
    "\n",
    "WELLNESS_malach_pines_burnout_measure_score is an overall reflection of how burned out the person is. It is a continuous value that is calculated using an unknown formula containing the person's response on multiple other burnout-related variables in the survey, such as sense of worthlessness, tiredness, etc; \n",
    "\n",
    "PSYCH_zimet_multidimensional_social_support_scale_score is an overall reflection of how much social support the person have. Similar to the burnout variable, it is also a continuous value calculated using some formula that takes the person's response on multiple other burnout-related variables in the survey.\n",
    "\n",
    "Visualization:\n",
    "\n",
    "Here, since both variables are continuous, we will not use bar plots, as they are mostly for comparing categorical or discrete variables. I choose to use a scatter plot to represent the data points, as it would help me identify any trends or patterns in the relationship between these two variables. For example, there might be a negative correlation between the two variables. I am planning to put PSYCH_zimet_multidimensional_social_support_scale_score on the X-axis, while WELLNESS_malach_pines_burnout_measure_score is on the Y-axis.\n"
   ]
  },
  {
   "cell_type": "markdown",
   "id": "b1250901",
   "metadata": {},
   "source": [
    "Analysis: \n",
    "\n",
    "With visualization as scatter plot, it is possible to use Simple Linear Regression to find the two variables' relationships. First we make the assumptions that in the data, the relationship between the two variables should be approximately linear, and the errors of each data point onto the linear line is Independent of each other.\n",
    "\n",
    "I plan to implement the analysis by first visualizing the relationship as scatter plot, then getting a fitted Simple Linear Regression Model using statsmodels to get the parameters of a fitted linear model, including beta_0, beta_1, etc; At the end, I will use hypothesis testing to see if there is linear assocation between the two variables by checking whether beta_1 is zero."
   ]
  },
  {
   "cell_type": "markdown",
   "id": "280f7677",
   "metadata": {},
   "source": [
    "Hypothesis/results and discussion:\n",
    "\n",
    "My hypothesis is that the fitted model will return a result that shows beta_1 is NOT zero, therefore there is a linear relationship between the two variables. Moreover, I hope the see that the more social support one receives, the lower the burnout score the person will feel. This helps to answer the research question."
   ]
  },
  {
   "cell_type": "markdown",
   "id": "e82495d9",
   "metadata": {},
   "source": [
    "### Research Question 2: Is there a relationship between one's sense of happiness and their time spent with connecting with others?"
   ]
  },
  {
   "cell_type": "markdown",
   "id": "780b41e6",
   "metadata": {},
   "source": [
    "Variables:\n",
    "\n",
    "I want to investigate the relationship (or find out is there an relationship) between one's happiness and their time spent in the past 3 months on talking with someone about your / their hobbies or interests. The variable names are: WELLNESS_subjective_happiness_scale_happy and CONNECTION_activities_talked_hobbies_p3m. The first variable is a discrete variable ranging from 1-7. The talked_hobbies is an ordinal variable, with values ranging from \"not in the past three months\" to \"a few times a week\".\n",
    "\n",
    "Visualization:\n",
    "\n",
    "I will use a stacked bar graph percentage to visualize the research question. Since talked_hobbies is a categorical ordinal variable, it fits well on Bar graph's X-value, while each discrete value from the happiness_scale (1-7) will be represented with a specific color on the graph, making the bar graph seem \"stacked\". The Y-value will be the percentage up to 100%. The purpose of this visualization is to show how many percent of the people in one ordinal variable (such as in \"not in the past three months\") are having a certain certain happiness scale."
   ]
  },
  {
   "cell_type": "markdown",
   "id": "922ad8ce",
   "metadata": {},
   "source": [
    "Analysis: \n",
    "\n",
    "I will be using bootstrapping to analyze the relationship between one's sense of happiness and their time spent with connecting with others. First I assume that observations are independent of each other, and the original sample should be representative of the population. I will implement the analysis by selecting smaller groups of samples from the datas, and repeat this process multiple times to form a distribution."
   ]
  },
  {
   "cell_type": "markdown",
   "id": "852b9d85",
   "metadata": {},
   "source": [
    "Hypothesis/results and discussion:\n",
    "\n",
    "My hypothesis is that the distribution suggests that it is very likely that there is a relationship between one's sense of happiness and their time spent with connecting with others, which helps answering the research question."
   ]
  },
  {
   "cell_type": "markdown",
   "id": "88638846",
   "metadata": {},
   "source": [
    "### Research Question 3: Does age make a significant impact on changing one's sense of loneliness after covid?"
   ]
  },
  {
   "cell_type": "markdown",
   "id": "e350c91d",
   "metadata": {},
   "source": [
    "Variables: \n",
    "\n",
    "LONELY_change_pre_covid: Comparing how the person feel now to how they felt before the COVID-19 Pandemic, how would the person describe the intensity of your loneliness. Ordinal value from \"much less lonely\" to \"much more lonely\".\n",
    "\n",
    "DEMO_age: The age of the person, ranging from 16 years old to 96 years old. Discrete value.\n",
    "\n",
    "Visualization:\n",
    "\n",
    "I will be using violin plots, where a violin plot will be formed for each ordinal value from LONELY_change_pre_covid, for example \"much less lonely\", \"About the same\", etc. A violin plot is helpful because it helps to show the distribution of loneliness on different ages, where we can see for example \"how much teenagers feel about the same\" and \"how much elders feel more lonely\"."
   ]
  },
  {
   "cell_type": "markdown",
   "id": "03324cbd",
   "metadata": {},
   "source": [
    "Analysis: \n",
    "\n",
    "I will be using bootstrapping to analyze whether age make an impact on changing one's sense of loneliness after covid. First I assume that observations are independent of each other, and the original sample should be representative of the population. I will implement the analysis by selecting smaller groups of samples from the datas, and repeat this process multiple times to form a distribution."
   ]
  },
  {
   "cell_type": "markdown",
   "id": "07bb01d6",
   "metadata": {},
   "source": [
    "Hypothesis/results and discussion:\n",
    "\n",
    "My hypothesis is that the violin graph of the \"lonely\" sections from LONELY_change_pre_covid will have greater width on the graph with greater DEMO_age, mean while the violin graph of LONELY_change_pre_covid's sections titled \"much less lonely\" is morelikely to have its greater widths with less DEMO_age. This result means that the older the person, the more likely it will feel that the intensity of their loneliness has increased after COVID-19 Pandemic."
   ]
  },
  {
   "cell_type": "markdown",
   "id": "054a36fd",
   "metadata": {},
   "source": [
    "https://notebooklm.google.com/notebook/f68e78cc-0e89-4a93-bd09-d9a3e2bd51b7?_gl=1*1uqk9lg*_up*MQ..*_ga*MTgwMTg5MDgyMy4xNzI5MTc5MDUz*_ga_W0LDH41ZCB*MTcyOTE3OTA1Mi4xLjAuMTcyOTE3OTA1Mi4wLjAuMA..&original_referer=https:%2F%2Fnotebooklm.google%23&pli=1"
   ]
  }
 ],
 "metadata": {
  "kernelspec": {
   "display_name": "Python 3 (ipykernel)",
   "language": "python",
   "name": "python3"
  },
  "language_info": {
   "codemirror_mode": {
    "name": "ipython",
    "version": 3
   },
   "file_extension": ".py",
   "mimetype": "text/x-python",
   "name": "python",
   "nbconvert_exporter": "python",
   "pygments_lexer": "ipython3",
   "version": "3.11.6"
  }
 },
 "nbformat": 4,
 "nbformat_minor": 5
}
